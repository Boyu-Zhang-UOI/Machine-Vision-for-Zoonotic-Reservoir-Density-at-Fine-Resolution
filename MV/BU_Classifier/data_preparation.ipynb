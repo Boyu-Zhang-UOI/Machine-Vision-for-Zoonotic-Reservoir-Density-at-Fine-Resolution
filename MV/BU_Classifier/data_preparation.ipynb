{
 "cells": [
  {
   "cell_type": "markdown",
   "metadata": {},
   "source": [
    "### Dara preparation 1: Burn the rasters\n",
    "The first step is burn the building information into the rasters and create an image copy of original raster (.png), a building label file (.npy), and a mask file (.png). It will take ~4 hours to finish the burning process."
   ]
  },
  {
   "cell_type": "code",
   "execution_count": 4,
   "metadata": {},
   "outputs": [],
   "source": [
    "%matplotlib inline\n",
    "\n",
    "import os, sys, shutil, tempfile\n",
    "from os.path import join\n",
    "\n",
    "import numpy as np\n",
    "import pandas as pd\n",
    "from matplotlib import pyplot as plt\n",
    "from matplotlib import colors\n",
    "\n",
    "import imageio\n",
    "import cv2\n",
    "import skimage\n",
    "from skimage import transform\n",
    "from skimage import io\n",
    "\n",
    "import rasterio\n",
    "from rasterio import features, mask\n",
    "from rasterio.features import rasterize\n",
    "import fiona\n",
    "\n",
    "import imgaug.augmenters as iaa\n",
    "\n",
    "# from tools.util import *\n",
    "from mask_rcnn_utils import*\n",
    "\n",
    "from tqdm import tqdm\n",
    "from natsort import natsorted\n",
    "\n",
    "import time\n",
    "from PIL import Image\n",
    "\n",
    "import random\n",
    "from glob import glob"
   ]
  },
  {
   "cell_type": "code",
   "execution_count": 2,
   "metadata": {},
   "outputs": [],
   "source": [
    "\"\"\"\n",
    "Global variables for step one\n",
    "\"\"\"\n",
    "data_root = \"/mnt/ceph/boyuz/Builiding_Landscaping/building_dataset\"\n",
    "target_root = join(data_root, \"raster_images_with_label\")\n",
    "\n",
    "# mode\n",
    "TESTING = False\n",
    "GOOGLE, BING, OSM = True, True, True"
   ]
  },
  {
   "cell_type": "code",
   "execution_count": 15,
   "metadata": {},
   "outputs": [
    {
     "name": "stdout",
     "output_type": "stream",
     "text": [
      "Processing /mnt/ceph/boyuz/Builiding_Landscaping/building_dataset/Google_Raster_Images/Badala.tif\n",
      "2.0\n"
     ]
    }
   ],
   "source": [
    "# # this cell debug the overlapping prbolem\n",
    "# rasters_path = \"/mnt/ceph/boyuz/Builiding_Landscaping/building_dataset/Google_Raster_Images/Badala.tif\"\n",
    "# shps = fiona.open(join(data_root, \"Shapefiles/Google_Building_Features.shp\"), \"r\")\n",
    "\n",
    "# with rasterio.open(rasters_path) as src:\n",
    "#     ras_meta = src.profile\n",
    "#     org_data = src.read()\n",
    "#     img_shape = src.shape\n",
    "#     transform = src.transform\n",
    "# image_data = org_data.copy()\n",
    "\n",
    "# print('Processing '+ rasters_path)\n",
    "\n",
    "# label_image = np.zeros((1, img_shape[0], img_shape[1]))\n",
    "\n",
    "# modern_counter, tradition_counter,  instance_counter = 0, 0, 0\n",
    "# instance_labels = []\n",
    "# # loop all geoms\n",
    "# geoms = [feature[\"geometry\"] for feature in shps]\n",
    "# geom_labels = [feature['properties']['Type'] for feature in shps]\n",
    "\n",
    "# overlap_detection = np.zeros([1, img_shape[0], img_shape[1]])\n",
    "\n",
    "# for geom, bldg_type in zip(geoms, geom_labels):\n",
    "#     # generate mask for current object\n",
    "#     out_mask = features.rasterize([geom], out_shape = img_shape, transform = transform)\n",
    "#     # contains instances\n",
    "#     if np.max(out_mask) == 1:\n",
    "#         # modern ->1\n",
    "#         if bldg_type == 'modern':\n",
    "#             label_image[:,out_mask==1] = instance_counter + 1\n",
    "#             instance_labels.append(1)\n",
    "#             instance_counter += 1\n",
    "#             modern_counter += 1\n",
    "#         # traditional -> 2\n",
    "#         elif bldg_type == 'trad':\n",
    "#             label_image[:,out_mask==1] = instance_counter + 1\n",
    "#             instance_labels.append(2)\n",
    "#             instance_counter += 1\n",
    "#             tradition_counter += 1   \n",
    "#         # if building type is not 'modern' or 'trad' raise an error and stop\n",
    "#         else:\n",
    "#             print(bldg_type)\n",
    "#             raise ValueError('building type not supported')\n",
    "#         # if instance_counter == 39:\n",
    "#         #     print('error here')\n",
    "#         # print('current counters: ', instance_counter, modern_counter, tradition_counter)\n",
    "#         # print(len(np.unique(label_image)))\n",
    "#         overlap_detection = np.add(overlap_detection, out_mask)\n",
    "\n",
    "# print(np.max(np.sum(overlap_detection, axis=0)))\n",
    "\n",
    "# # imageio.imwrite(join(target_root, raster_name[:-4] + '_image.png'), np.moveaxis(image_data, 0, -1)[:, :, 0:3])\n",
    "# # np.save(join(target_root, raster_name[:-4] + '_mask.npy'), label_image)\n",
    "# # np.save(join(target_root, raster_name[:-4] + '_label.npy'), instance_labels)\n",
    "# # print('Finished ' + raster_name,          \n",
    "# #         '\\n Number of modern buildings: ', modern_counter, \n",
    "# #         '\\n Number of traditional buildings: ', tradition_counter)\n"
   ]
  },
  {
   "cell_type": "markdown",
   "metadata": {},
   "source": [
    "Burn Google rasters."
   ]
  },
  {
   "cell_type": "code",
   "execution_count": 4,
   "metadata": {},
   "outputs": [
    {
     "name": "stdout",
     "output_type": "stream",
     "text": [
      "Processing Makuna.tif\n"
     ]
    },
    {
     "name": "stderr",
     "output_type": "stream",
     "text": [
      "8407it [01:23, 100.51it/s]\n"
     ]
    },
    {
     "name": "stdout",
     "output_type": "stream",
     "text": [
      "Finished Makuna.tif \n",
      " Number of modern buildings:  37 \n",
      " Number of traditional buildings:  3\n",
      "Processing Badala.tif\n"
     ]
    },
    {
     "name": "stderr",
     "output_type": "stream",
     "text": [
      "8407it [06:16, 22.36it/s]\n"
     ]
    },
    {
     "name": "stdout",
     "output_type": "stream",
     "text": [
      "Finished Badala.tif \n",
      " Number of modern buildings:  240 \n",
      " Number of traditional buildings:  7\n",
      "Processing Kanipo.tif\n"
     ]
    },
    {
     "name": "stderr",
     "output_type": "stream",
     "text": [
      "8407it [00:45, 183.07it/s]\n"
     ]
    },
    {
     "name": "stdout",
     "output_type": "stream",
     "text": [
      "Finished Kanipo.tif \n",
      " Number of modern buildings:  32 \n",
      " Number of traditional buildings:  0\n",
      "Processing Jimmy.tif\n"
     ]
    },
    {
     "name": "stderr",
     "output_type": "stream",
     "text": [
      "8407it [12:57, 10.82it/s]\n"
     ]
    },
    {
     "name": "stdout",
     "output_type": "stream",
     "text": [
      "Finished Jimmy.tif \n",
      " Number of modern buildings:  369 \n",
      " Number of traditional buildings:  6\n",
      "Processing Gbetaya_3.tif\n"
     ]
    },
    {
     "name": "stderr",
     "output_type": "stream",
     "text": [
      "8407it [09:49, 14.25it/s]\n"
     ]
    },
    {
     "name": "stdout",
     "output_type": "stream",
     "text": [
      "Finished Gbetaya_3.tif \n",
      " Number of modern buildings:  284 \n",
      " Number of traditional buildings:  816\n",
      "Processing Bafodia.tif\n"
     ]
    },
    {
     "name": "stderr",
     "output_type": "stream",
     "text": [
      "8407it [15:45,  8.89it/s]\n"
     ]
    },
    {
     "name": "stdout",
     "output_type": "stream",
     "text": [
      "Finished Bafodia.tif \n",
      " Number of modern buildings:  305 \n",
      " Number of traditional buildings:  0\n",
      "Processing Chembu.tif\n"
     ]
    },
    {
     "name": "stderr",
     "output_type": "stream",
     "text": [
      "8407it [02:59, 46.92it/s]\n"
     ]
    },
    {
     "name": "stdout",
     "output_type": "stream",
     "text": [
      "Finished Chembu.tif \n",
      " Number of modern buildings:  60 \n",
      " Number of traditional buildings:  27\n",
      "Processing Barlie.tif\n"
     ]
    },
    {
     "name": "stderr",
     "output_type": "stream",
     "text": [
      "8407it [01:03, 131.73it/s]\n"
     ]
    },
    {
     "name": "stdout",
     "output_type": "stream",
     "text": [
      "Finished Barlie.tif \n",
      " Number of modern buildings:  110 \n",
      " Number of traditional buildings:  0\n",
      "Processing Makump.tif\n"
     ]
    },
    {
     "name": "stderr",
     "output_type": "stream",
     "text": [
      "8407it [13:35, 10.31it/s]\n"
     ]
    },
    {
     "name": "stdout",
     "output_type": "stream",
     "text": [
      "Finished Makump.tif \n",
      " Number of modern buildings:  231 \n",
      " Number of traditional buildings:  2\n",
      "Processing Gbetaya_2.tif\n"
     ]
    },
    {
     "name": "stderr",
     "output_type": "stream",
     "text": [
      "8407it [01:33, 89.81it/s]\n"
     ]
    },
    {
     "name": "stdout",
     "output_type": "stream",
     "text": [
      "Finished Gbetaya_2.tif \n",
      " Number of modern buildings:  27 \n",
      " Number of traditional buildings:  186\n",
      "Processing Ngegbeima.tif\n"
     ]
    },
    {
     "name": "stderr",
     "output_type": "stream",
     "text": [
      "8407it [08:51, 15.82it/s]\n"
     ]
    },
    {
     "name": "stdout",
     "output_type": "stream",
     "text": [
      "Finished Ngegbeima.tif \n",
      " Number of modern buildings:  344 \n",
      " Number of traditional buildings:  0\n",
      "Processing Gbetaya.tif\n"
     ]
    },
    {
     "name": "stderr",
     "output_type": "stream",
     "text": [
      "8407it [02:01, 69.28it/s]\n"
     ]
    },
    {
     "name": "stdout",
     "output_type": "stream",
     "text": [
      "Finished Gbetaya.tif \n",
      " Number of modern buildings:  87 \n",
      " Number of traditional buildings:  223\n",
      "Processing Benduma.tif\n"
     ]
    },
    {
     "name": "stderr",
     "output_type": "stream",
     "text": [
      "8407it [00:40, 206.13it/s]\n"
     ]
    },
    {
     "name": "stdout",
     "output_type": "stream",
     "text": [
      "Finished Benduma.tif \n",
      " Number of modern buildings:  100 \n",
      " Number of traditional buildings:  1\n",
      "Processing Njaguima.tif\n"
     ]
    },
    {
     "name": "stderr",
     "output_type": "stream",
     "text": [
      "8407it [00:19, 435.88it/s]\n"
     ]
    },
    {
     "name": "stdout",
     "output_type": "stream",
     "text": [
      "Finished Njaguima.tif \n",
      " Number of modern buildings:  28 \n",
      " Number of traditional buildings:  0\n",
      "Processing Kobadu.tif\n"
     ]
    },
    {
     "name": "stderr",
     "output_type": "stream",
     "text": [
      "8407it [01:06, 126.28it/s]\n"
     ]
    },
    {
     "name": "stdout",
     "output_type": "stream",
     "text": [
      "Finished Kobadu.tif \n",
      " Number of modern buildings:  71 \n",
      " Number of traditional buildings:  0\n",
      "Processing Ngaiagoehun.tif\n"
     ]
    },
    {
     "name": "stderr",
     "output_type": "stream",
     "text": [
      "8407it [01:01, 137.07it/s]\n"
     ]
    },
    {
     "name": "stdout",
     "output_type": "stream",
     "text": [
      "Finished Ngaiagoehun.tif \n",
      " Number of modern buildings:  64 \n",
      " Number of traditional buildings:  2\n",
      "Processing Gbenikoro.tif\n"
     ]
    },
    {
     "name": "stderr",
     "output_type": "stream",
     "text": [
      "8407it [07:48, 17.94it/s]\n"
     ]
    },
    {
     "name": "stdout",
     "output_type": "stream",
     "text": [
      "Finished Gbenikoro.tif \n",
      " Number of modern buildings:  121 \n",
      " Number of traditional buildings:  1\n",
      "Processing Tanganya.tif\n"
     ]
    },
    {
     "name": "stderr",
     "output_type": "stream",
     "text": [
      "8407it [04:11, 33.37it/s]\n"
     ]
    },
    {
     "name": "stdout",
     "output_type": "stream",
     "text": [
      "Finished Tanganya.tif \n",
      " Number of modern buildings:  98 \n",
      " Number of traditional buildings:  274\n",
      "Processing Malambay.tif\n"
     ]
    },
    {
     "name": "stderr",
     "output_type": "stream",
     "text": [
      "8407it [29:10,  4.80it/s]\n"
     ]
    },
    {
     "name": "stdout",
     "output_type": "stream",
     "text": [
      "Finished Malambay.tif \n",
      " Number of modern buildings:  241 \n",
      " Number of traditional buildings:  21\n",
      "Processing North_Tanganya.tif\n"
     ]
    },
    {
     "name": "stderr",
     "output_type": "stream",
     "text": [
      "8407it [06:47, 20.65it/s]\n"
     ]
    },
    {
     "name": "stdout",
     "output_type": "stream",
     "text": [
      "Finished North_Tanganya.tif \n",
      " Number of modern buildings:  112 \n",
      " Number of traditional buildings:  200\n",
      "Processing Guala.tif\n"
     ]
    },
    {
     "name": "stderr",
     "output_type": "stream",
     "text": [
      "8407it [01:35, 88.10it/s]\n"
     ]
    },
    {
     "name": "stdout",
     "output_type": "stream",
     "text": [
      "Finished Guala.tif \n",
      " Number of modern buildings:  128 \n",
      " Number of traditional buildings:  0\n",
      "Processing West_Bantou_1.tif\n"
     ]
    },
    {
     "name": "stderr",
     "output_type": "stream",
     "text": [
      "8407it [01:00, 138.15it/s]\n"
     ]
    },
    {
     "name": "stdout",
     "output_type": "stream",
     "text": [
      "Finished West_Bantou_1.tif \n",
      " Number of modern buildings:  60 \n",
      " Number of traditional buildings:  368\n",
      "Processing Largo.tif\n"
     ]
    },
    {
     "name": "stderr",
     "output_type": "stream",
     "text": [
      "8407it [15:37,  8.97it/s]\n"
     ]
    },
    {
     "name": "stdout",
     "output_type": "stream",
     "text": [
      "Finished Largo.tif \n",
      " Number of modern buildings:  552 \n",
      " Number of traditional buildings:  11\n",
      "Processing Gbetaya_1.tif\n"
     ]
    },
    {
     "name": "stderr",
     "output_type": "stream",
     "text": [
      "8407it [01:17, 109.07it/s]\n"
     ]
    },
    {
     "name": "stdout",
     "output_type": "stream",
     "text": [
      "Finished Gbetaya_1.tif \n",
      " Number of modern buildings:  39 \n",
      " Number of traditional buildings:  140\n",
      "Processing Mid_Tanganya_Bantou.tif\n"
     ]
    },
    {
     "name": "stderr",
     "output_type": "stream",
     "text": [
      "8407it [03:42, 37.75it/s]\n"
     ]
    },
    {
     "name": "stdout",
     "output_type": "stream",
     "text": [
      "Finished Mid_Tanganya_Bantou.tif \n",
      " Number of modern buildings:  182 \n",
      " Number of traditional buildings:  406\n",
      "Processing Kapethe.tif\n"
     ]
    },
    {
     "name": "stderr",
     "output_type": "stream",
     "text": [
      "8407it [02:06, 66.72it/s]\n"
     ]
    },
    {
     "name": "stdout",
     "output_type": "stream",
     "text": [
      "Finished Kapethe.tif \n",
      " Number of modern buildings:  92 \n",
      " Number of traditional buildings:  0\n",
      "Processing Talama.tif\n"
     ]
    },
    {
     "name": "stderr",
     "output_type": "stream",
     "text": [
      "8407it [40:28,  3.46it/s]\n"
     ]
    },
    {
     "name": "stdout",
     "output_type": "stream",
     "text": [
      "Finished Talama.tif \n",
      " Number of modern buildings:  685 \n",
      " Number of traditional buildings:  0\n",
      "Processing Bantou.tif\n"
     ]
    },
    {
     "name": "stderr",
     "output_type": "stream",
     "text": [
      "8407it [07:32, 18.57it/s]\n"
     ]
    },
    {
     "name": "stdout",
     "output_type": "stream",
     "text": [
      "Finished Bantou.tif \n",
      " Number of modern buildings:  125 \n",
      " Number of traditional buildings:  821\n",
      "Processing Taima.tif\n"
     ]
    },
    {
     "name": "stderr",
     "output_type": "stream",
     "text": [
      "8407it [02:36, 53.62it/s]\n"
     ]
    },
    {
     "name": "stdout",
     "output_type": "stream",
     "text": [
      "Finished Taima.tif \n",
      " Number of modern buildings:  61 \n",
      " Number of traditional buildings:  1\n"
     ]
    }
   ],
   "source": [
    "if GOOGLE:\n",
    "    rasters_path = join(data_root, \"Google_Raster_Images\")\n",
    "    shps = fiona.open(join(data_root, \"Shapefiles/Google_Building_Features.shp\"), \"r\")\n",
    "\n",
    "    img_list = os.listdir(rasters_path) \n",
    "\n",
    "    for index, raster_name in enumerate(img_list):\n",
    "        # open raster file\n",
    "        with rasterio.open(join(rasters_path, raster_name)) as src:\n",
    "            ras_meta = src.profile\n",
    "            org_data = src.read()\n",
    "            img_shape = src.shape\n",
    "            transform = src.transform\n",
    "        image_data = org_data.copy()\n",
    "\n",
    "        print('Processing '+ raster_name)\n",
    "\n",
    "        label_image = np.zeros((1, img_shape[0], img_shape[1]))\n",
    "\n",
    "        modern_counter, tradition_counter,  instance_counter = 0, 0, 0\n",
    "        instance_labels = []\n",
    "        # loop all geoms\n",
    "        geoms = [feature[\"geometry\"] for feature in shps]\n",
    "        geom_labels = [feature['properties']['Type'] for feature in shps]\n",
    "\n",
    "        for geom, bldg_type in tqdm(zip(geoms, geom_labels)):\n",
    "            # generate mask for current object\n",
    "            out_mask = features.rasterize([geom], out_shape = img_shape, transform = transform)\n",
    "            # contains instances\n",
    "            if np.max(out_mask) == 1:\n",
    "                # modern ->1\n",
    "                if bldg_type == 'modern':\n",
    "                    label_image[:,out_mask==1] = instance_counter + 1\n",
    "                    instance_labels.append(1)\n",
    "                    instance_counter += 1\n",
    "                    modern_counter += 1\n",
    "                # traditional -> 2\n",
    "                elif bldg_type == 'trad':\n",
    "                    label_image[:,out_mask==1] = instance_counter + 1\n",
    "                    instance_labels.append(2)\n",
    "                    instance_counter += 1\n",
    "                    tradition_counter += 1   \n",
    "                # if building type is not 'modern' or 'trad' raise an error and stop\n",
    "                else:\n",
    "                    print(bldg_type)\n",
    "                    raise ValueError('building type not supported')\n",
    "        \n",
    "        imageio.imwrite(join(target_root, raster_name[:-4] + '_image.png'), np.moveaxis(image_data, 0, -1)[:, :, 0:3])\n",
    "        np.save(join(target_root, raster_name[:-4] + '_mask.npy'), label_image)\n",
    "        np.save(join(target_root, raster_name[:-4] + '_label.npy'), instance_labels)\n",
    "        print('Finished ' + raster_name,          \n",
    "              '\\n Number of modern buildings: ', modern_counter, \n",
    "              '\\n Number of traditional buildings: ', tradition_counter)\n",
    "              \n",
    "        if TESTING:\n",
    "            break"
   ]
  },
  {
   "cell_type": "markdown",
   "metadata": {},
   "source": [
    "Burn Bing rasters."
   ]
  },
  {
   "cell_type": "code",
   "execution_count": 6,
   "metadata": {},
   "outputs": [
    {
     "name": "stdout",
     "output_type": "stream",
     "text": [
      "Processing BHR_Gbetaya.tif\n"
     ]
    },
    {
     "name": "stderr",
     "output_type": "stream",
     "text": [
      "356it [00:39,  9.08it/s]\n"
     ]
    },
    {
     "name": "stdout",
     "output_type": "stream",
     "text": [
      "Finished BHR_Gbetaya.tif \n",
      " Number of modern buildings:  73 \n",
      " Number of traditional buildings:  250\n",
      "Processing BHR_Guala_Cloud_1.tif\n"
     ]
    },
    {
     "name": "stderr",
     "output_type": "stream",
     "text": [
      "356it [00:26, 13.64it/s]\n"
     ]
    },
    {
     "name": "stdout",
     "output_type": "stream",
     "text": [
      "Finished BHR_Guala_Cloud_1.tif \n",
      " Number of modern buildings:  0 \n",
      " Number of traditional buildings:  0\n",
      "Processing BHR_Guala_Cloud_2.tif\n"
     ]
    },
    {
     "name": "stderr",
     "output_type": "stream",
     "text": [
      "356it [00:17, 20.91it/s]\n"
     ]
    },
    {
     "name": "stdout",
     "output_type": "stream",
     "text": [
      "Finished BHR_Guala_Cloud_2.tif \n",
      " Number of modern buildings:  0 \n",
      " Number of traditional buildings:  0\n",
      "Processing BHR_Guala_Cloud_3.tif\n"
     ]
    },
    {
     "name": "stderr",
     "output_type": "stream",
     "text": [
      "356it [00:09, 38.18it/s]\n"
     ]
    },
    {
     "name": "stdout",
     "output_type": "stream",
     "text": [
      "Finished BHR_Guala_Cloud_3.tif \n",
      " Number of modern buildings:  0 \n",
      " Number of traditional buildings:  0\n",
      "Processing BHR_Guala_Cloud_4.tif\n"
     ]
    },
    {
     "name": "stderr",
     "output_type": "stream",
     "text": [
      "356it [01:48,  3.27it/s]\n"
     ]
    },
    {
     "name": "stdout",
     "output_type": "stream",
     "text": [
      "Finished BHR_Guala_Cloud_4.tif \n",
      " Number of modern buildings:  31 \n",
      " Number of traditional buildings:  2\n",
      "Processing BHR_Malambay_Cloud_1.tif\n"
     ]
    },
    {
     "name": "stderr",
     "output_type": "stream",
     "text": [
      "356it [00:09, 38.95it/s]\n"
     ]
    },
    {
     "name": "stdout",
     "output_type": "stream",
     "text": [
      "Finished BHR_Malambay_Cloud_1.tif \n",
      " Number of modern buildings:  0 \n",
      " Number of traditional buildings:  0\n"
     ]
    }
   ],
   "source": [
    "if BING:\n",
    "    rasters_path = join(data_root, \"Bing_Raster_Images\")\n",
    "    img_list = ['BHR_Gbetaya.tif', 'BHR_Guala_Cloud_1.tif', 'BHR_Guala_Cloud_2.tif', 'BHR_Guala_Cloud_3.tif', \n",
    "                 'BHR_Guala_Cloud_4.tif', 'BHR_Malambay_Cloud_1.tif']\n",
    "    shps = fiona.open(join(data_root, \"Shapefiles/Bing_Building_Features.shp\"), \"r\")\n",
    "\n",
    "    for index, raster_name in enumerate(img_list):\n",
    "        # open raster file\n",
    "        with rasterio.open(join(rasters_path, raster_name)) as src:\n",
    "            ras_meta = src.profile\n",
    "            org_data = src.read()\n",
    "            img_shape = src.shape\n",
    "            transform = src.transform\n",
    "        image_data = org_data.copy()\n",
    "\n",
    "        print('Processing '+ raster_name)\n",
    "\n",
    "        label_image = np.zeros((1, img_shape[0], img_shape[1]))\n",
    "\n",
    "        modern_counter, tradition_counter,  instance_counter = 0, 0, 0\n",
    "        instance_labels = []\n",
    "        # loop all geoms\n",
    "        geoms = [feature[\"geometry\"] for feature in shps]\n",
    "        geom_labels = [feature['properties']['Type'] for feature in shps]\n",
    "\n",
    "        for geom, bldg_type in tqdm(zip(geoms, geom_labels)):\n",
    "            # generate mask for current object\n",
    "            out_mask = features.rasterize([geom], out_shape = img_shape, transform = transform)\n",
    "            # contains instances\n",
    "            if np.max(out_mask) == 1:\n",
    "                # modern ->1\n",
    "                if bldg_type == 'modern':\n",
    "                    label_image[:,out_mask==1] = instance_counter + 1\n",
    "                    instance_labels.append(1)\n",
    "                    instance_counter += 1\n",
    "                    modern_counter += 1\n",
    "                # traditional -> 2\n",
    "                elif bldg_type == 'trad':\n",
    "                    label_image[:,out_mask==1] = instance_counter + 1\n",
    "                    instance_labels.append(2)\n",
    "                    instance_counter += 1\n",
    "                    tradition_counter += 1   \n",
    "                # if building type is not 'modern' or 'trad' raise an error and stop\n",
    "                else:\n",
    "                    print(bldg_type)\n",
    "                    raise ValueError('building type not supported')\n",
    "        \n",
    "        imageio.imwrite(join(target_root, raster_name[:-4] + '_image.png'), np.moveaxis(image_data, 0, -1)[:, :, 0:3])\n",
    "        np.save(join(target_root, raster_name[:-4] + '_mask.npy'), label_image)\n",
    "        np.save(join(target_root, raster_name[:-4] + '_label.npy'), instance_labels)\n",
    "        print('Finished ' + raster_name,\n",
    "              '\\n Number of modern buildings: ', modern_counter, \n",
    "              '\\n Number of traditional buildings: ', tradition_counter)\n",
    "        \n",
    "        if TESTING:\n",
    "            break"
   ]
  },
  {
   "cell_type": "markdown",
   "metadata": {},
   "source": [
    "Burn OSM raster.\n",
    "Notes for OSM rasters:\n",
    "1. OSM raster has seperate shape files for each raster\n",
    "2. The property type field in OSM is different: 'yes'->'modern, 'hut'->'trad', there is another type 'construction' that should be ignored at this stage. "
   ]
  },
  {
   "cell_type": "code",
   "execution_count": 8,
   "metadata": {},
   "outputs": [
    {
     "name": "stdout",
     "output_type": "stream",
     "text": [
      "Processing Bantou\n"
     ]
    },
    {
     "name": "stderr",
     "output_type": "stream",
     "text": [
      "833it [01:41,  8.21it/s]\n"
     ]
    },
    {
     "name": "stdout",
     "output_type": "stream",
     "text": [
      "Finished Bantou \n",
      " Number of modern buildings:  72 \n",
      " Number of traditional buildings:  761 \n",
      " Number of construction buildings:  0\n",
      "Processing Tanganya\n"
     ]
    },
    {
     "name": "stderr",
     "output_type": "stream",
     "text": [
      "425it [00:48,  8.82it/s]\n"
     ]
    },
    {
     "name": "stdout",
     "output_type": "stream",
     "text": [
      "Finished Tanganya \n",
      " Number of modern buildings:  65 \n",
      " Number of traditional buildings:  360 \n",
      " Number of construction buildings:  0\n",
      "Processing North_Tanganya\n"
     ]
    },
    {
     "name": "stderr",
     "output_type": "stream",
     "text": [
      "383it [00:48,  7.95it/s]\n"
     ]
    },
    {
     "name": "stdout",
     "output_type": "stream",
     "text": [
      "Finished North_Tanganya \n",
      " Number of modern buildings:  116 \n",
      " Number of traditional buildings:  263 \n",
      " Number of construction buildings:  4\n",
      "Processing Gbetaya_1\n"
     ]
    },
    {
     "name": "stderr",
     "output_type": "stream",
     "text": [
      "178it [00:05, 33.14it/s]\n"
     ]
    },
    {
     "name": "stdout",
     "output_type": "stream",
     "text": [
      "Finished Gbetaya_1 \n",
      " Number of modern buildings:  20 \n",
      " Number of traditional buildings:  158 \n",
      " Number of construction buildings:  0\n",
      "Processing Gbetaya_2\n"
     ]
    },
    {
     "name": "stderr",
     "output_type": "stream",
     "text": [
      "205it [00:07, 27.58it/s]\n"
     ]
    },
    {
     "name": "stdout",
     "output_type": "stream",
     "text": [
      "Finished Gbetaya_2 \n",
      " Number of modern buildings:  15 \n",
      " Number of traditional buildings:  190 \n",
      " Number of construction buildings:  0\n",
      "Processing Gbetaya_3\n"
     ]
    },
    {
     "name": "stderr",
     "output_type": "stream",
     "text": [
      "1061it [03:06,  5.68it/s]\n"
     ]
    },
    {
     "name": "stdout",
     "output_type": "stream",
     "text": [
      "Finished Gbetaya_3 \n",
      " Number of modern buildings:  243 \n",
      " Number of traditional buildings:  818 \n",
      " Number of construction buildings:  0\n",
      "Processing West_Bantou_1\n"
     ]
    },
    {
     "name": "stderr",
     "output_type": "stream",
     "text": [
      "406it [00:15, 26.60it/s]\n"
     ]
    },
    {
     "name": "stdout",
     "output_type": "stream",
     "text": [
      "Finished West_Bantou_1 \n",
      " Number of modern buildings:  42 \n",
      " Number of traditional buildings:  364 \n",
      " Number of construction buildings:  0\n",
      "Processing West_Bantou_2\n"
     ]
    },
    {
     "name": "stderr",
     "output_type": "stream",
     "text": [
      "640it [03:03,  3.49it/s]\n"
     ]
    },
    {
     "name": "stdout",
     "output_type": "stream",
     "text": [
      "Finished West_Bantou_2 \n",
      " Number of modern buildings:  138 \n",
      " Number of traditional buildings:  502 \n",
      " Number of construction buildings:  0\n",
      "Processing West_Bantou_3\n"
     ]
    },
    {
     "name": "stderr",
     "output_type": "stream",
     "text": [
      "459it [00:16, 28.14it/s]\n"
     ]
    },
    {
     "name": "stdout",
     "output_type": "stream",
     "text": [
      "Finished West_Bantou_3 \n",
      " Number of modern buildings:  39 \n",
      " Number of traditional buildings:  417 \n",
      " Number of construction buildings:  0\n"
     ]
    }
   ],
   "source": [
    "if OSM:\n",
    "    rasters_path = join(data_root, \"Bing_Raster_Images\")\n",
    "    img_list = ['Bantou', 'Tanganya', 'North_Tanganya', 'Gbetaya_1', 'Gbetaya_2', 'Gbetaya_3', \n",
    "                'West_Bantou_1', 'West_Bantou_2', 'West_Bantou_3']\n",
    "\n",
    "    for index, raster_name in enumerate(img_list):\n",
    "        # open raster file\n",
    "        with rasterio.open(join(rasters_path, 'BHR_' + raster_name + '.tif')) as src:\n",
    "            ras_meta = src.profile\n",
    "            org_data = src.read()\n",
    "            img_shape = src.shape\n",
    "            transform = src.transform\n",
    "        image_data = org_data.copy()\n",
    "        \n",
    "        shps = fiona.open(join(data_root, \"Shapefiles/Bing_OSM_\" + raster_name + \".shp\"), \"r\")\n",
    "        \n",
    "        print('Processing '+ raster_name)\n",
    "\n",
    "        label_image = np.zeros((1, img_shape[0], img_shape[1]))\n",
    "\n",
    "        modern_counter, tradition_counter,  instance_counter, construction_counter = 0, 0, 0, 0\n",
    "        instance_labels = []\n",
    "        # loop all geoms\n",
    "        geoms = [feature[\"geometry\"] for feature in shps]\n",
    "        geom_labels = [feature['properties']['building'] for feature in shps]\n",
    "\n",
    "        for geom, bldg_type in tqdm(zip(geoms, geom_labels)):\n",
    "            # generate mask for current object\n",
    "            out_mask = features.rasterize([geom], out_shape = img_shape, transform = transform)\n",
    "            # contains instances\n",
    "            if np.max(out_mask) == 1:\n",
    "                # modern ->1\n",
    "                if bldg_type == 'yes':\n",
    "                    label_image[:,out_mask==1] = instance_counter + 1\n",
    "                    instance_labels.append(1)\n",
    "                    instance_counter += 1\n",
    "                    modern_counter += 1\n",
    "                # traditional -> 2\n",
    "                elif bldg_type == 'hut':\n",
    "                    label_image[:,out_mask==1] = instance_counter + 1\n",
    "                    instance_labels.append(2)\n",
    "                    instance_counter += 1\n",
    "                    tradition_counter += 1   \n",
    "                # if building type is not 'modern' or 'trad' raise an error and stop\n",
    "                elif bldg_type == 'construction':\n",
    "                    construction_counter += 1\n",
    "                else:\n",
    "                    print(bldg_type)\n",
    "                    raise ValueError('building type not supported')\n",
    "        \n",
    "        imageio.imwrite(join(target_root, 'OSM_' + raster_name + '_image.png'), np.moveaxis(image_data, 0, -1)[:, :, 0:3])\n",
    "        np.save(join(target_root, 'OSM_' + raster_name + '_mask.npy'), label_image)\n",
    "        np.save(join(target_root, 'OSM_' + raster_name + '_label.npy'), instance_labels)\n",
    "        print('Finished ' + raster_name,\n",
    "              '\\n Number of modern buildings: ', modern_counter, \n",
    "              '\\n Number of traditional buildings: ', tradition_counter,\n",
    "              '\\n Number of construction buildings: ', construction_counter)\n",
    "        \n",
    "        if TESTING:\n",
    "            break\n",
    "    "
   ]
  },
  {
   "cell_type": "markdown",
   "metadata": {},
   "source": [
    "#### Data preparation 2: split image/label/mask\n",
    "\n",
    "split the raster, label, and mask image into tiles with specific size. The reason is that the Mask R-CNN couldn't handle that much targets all together."
   ]
  },
  {
   "cell_type": "code",
   "execution_count": 5,
   "metadata": {},
   "outputs": [],
   "source": [
    "\"\"\"\n",
    "Global variables for step 2\n",
    "\"\"\"\n",
    "TESTING = True\n",
    "tile_shape = np.array([1024, 1024]).astype(int)\n",
    "stride = np.round(tile_shape/2).astype(int)\n",
    "\n",
    "raster_dir_1 = \"/mnt/ceph/boyuz/Builiding_Landscaping/building_dataset/raster_images_with_label\"\n",
    "\"/mnt/ceph/boyuz/BU_Classifier/MRCNN/color_transformed\"\n",
    "raster_dir_2 = \"/mnt/ceph/boyuz/BU_Classifier/MRCNN/color_transformed\"\n",
    "target_root = \"/mnt/ceph/boyuz/Builiding_Landscaping/building_dataset/tiles_1024/\""
   ]
  },
  {
   "cell_type": "code",
   "execution_count": 3,
   "metadata": {},
   "outputs": [],
   "source": [
    "# Functions for step 2\n",
    "def save_tile(tile_image, tile_mask, tile_label, target_dataset_folder, image_path, tile_index):\n",
    "    parent_image_name = image_path.split('/')[-1]\n",
    "    \n",
    "    tile_image_name = target_dataset_folder + \\\n",
    "                      parent_image_name.replace('_image.png', '_tile_') + \\\n",
    "                      str(tile_index) + '_image.png'\n",
    "    imageio.imwrite(tile_image_name, tile_image)\n",
    "\n",
    "    mask_file_name = tile_image_name.replace('_image.png', '_mask.npy')\n",
    "    np.save(mask_file_name, tile_mask)\n",
    "\n",
    "    label_file_name = tile_image_name.replace('_image.png', '_label.npy')\n",
    "    np.save(label_file_name, tile_label)\n",
    "\n",
    "    return True\n",
    "\n",
    "# map the original instance id to 1~n, where n is the number of instance.\n",
    "def reassign_instance_index(raw_mask):\n",
    "    index_list = natsorted(np.unique(raw_mask)[1:])\n",
    "    new_mask = np.zeros_like(raw_mask)\n",
    "    # loop over instances\n",
    "    instance_counter = 0\n",
    "    for index in index_list:\n",
    "        new_mask[raw_mask==index] = instance_counter + 1\n",
    "        instance_counter += 1\n",
    "    return new_mask\n",
    "\n",
    "\n",
    "# remove the instances that are too small, or too narrow\n",
    "def instance_filter(raw_mask, raw_labels, min_area= 64, min_ratio=0.1, max_ratio=10):\n",
    "    # return false if instances and labels don't match\n",
    "    if len(np.unique(raw_mask)) != len(raw_labels) + 1:\n",
    "        return False, raw_mask, raw_labels\n",
    "    \n",
    "    # create a new mask that include \n",
    "    new_mask = reassign_instance_index(raw_mask)\n",
    "    # create seperate mask for each instance\n",
    "    obj_ids = np.unique(new_mask)[1:]\n",
    "    num_objs = len(obj_ids)\n",
    "    masks_objs = new_mask==obj_ids[:, None, None]\n",
    "    \n",
    "    new_label = []\n",
    "    for i in range(num_objs):\n",
    "        pos = np.where(masks_objs[i])\n",
    "        xmin = np.min(pos[1])\n",
    "        xmax = np.max(pos[1])\n",
    "        ymin = np.min(pos[0])\n",
    "        ymax = np.max(pos[0])    \n",
    "        area = (xmax - xmin) * (ymax - ymin)\n",
    "        ratio = (xmax - xmin + 1)/(ymax - ymin + 1)\n",
    "        '''\n",
    "        if the area is too small or width/height too small or too small. \n",
    "        There are some partially presented instances left.\n",
    "        '''\n",
    "        if (abs(xmax-xmin)<5) or (abs(ymax-ymin)<5) or \\\n",
    "            (area<=min_area) or (ratio>=max_ratio) or (ratio<=min_ratio):\n",
    "            new_mask[new_mask==obj_ids[i]] = 0\n",
    "        else:\n",
    "            new_label.append(raw_labels[i])\n",
    "    \n",
    "    if len(new_label) > 0:\n",
    "        # if some instances were removed, reassian instance id\n",
    "        if len(new_label) != len(raw_labels):\n",
    "            new_mask = reassign_instance_index(new_mask)\n",
    "        return True, new_mask, new_label\n",
    "    else:\n",
    "        return False, raw_mask, raw_labels"
   ]
  },
  {
   "cell_type": "code",
   "execution_count": 7,
   "metadata": {},
   "outputs": [
    {
     "name": "stdout",
     "output_type": "stream",
     "text": [
      "64\n",
      "Barlie_trans_image.png  Image size:  (1603, 2952, 3) (1603, 2952)\n",
      "Guala_trans_image.png  Image size:  (3211, 2190, 3) (3211, 2190)\n",
      "Bafodia_trans_image.png  Image size:  (6700, 6500, 3) (6700, 6500)\n",
      "Taima_trans_image.png  Image size:  (2930, 3453, 3) (2930, 3453)\n",
      "Kobadu_trans_image.png  Image size:  (2506, 2027, 3) (2506, 2027)\n",
      "Kapethe_trans_image.png  Image size:  (2163, 3983, 3) (2163, 3983)\n",
      "Ngegbeima_trans_image.png  Image size:  (5000, 5500, 3) (5000, 5500)\n",
      "Gbetaya_trans_image.png  Image size:  (3371, 2500, 3) (3371, 2500)\n",
      "Njaguima_trans_image.png  Image size:  (793, 1461, 3) (793, 1461)\n",
      "Malambay_trans_image.png  Image size:  (7809, 11285, 3) (7809, 11285)\n",
      "Largo_trans_image.png  Image size:  (10000, 4325, 3) (10000, 4325)\n",
      "Kanipo_trans_image.png  Image size:  (1250, 2302, 3) (1250, 2302)\n",
      "Makuna_trans_image.png  Image size:  (1667, 3069, 3) (1667, 3069)\n",
      "Benduma_trans_image.png  Image size:  (1250, 2302, 3) (1250, 2302)\n"
     ]
    },
    {
     "name": "stderr",
     "output_type": "stream",
     "text": [
      "/mnt/ceph/boyuz/miniconda3/envs/gis/lib/python3.10/site-packages/PIL/Image.py:3035: DecompressionBombWarning: Image size (117274500 pixels) exceeds limit of 89478485 pixels, could be decompression bomb DOS attack.\n",
      "  warnings.warn(\n"
     ]
    },
    {
     "name": "stdout",
     "output_type": "stream",
     "text": [
      "Talama_trans_image.png  Image size:  (10710, 10950, 3) (10710, 10950)\n",
      "Jimmy_trans_image.png  Image size:  (6742, 5180, 3) (6742, 5180)\n",
      "Ngaiagoehun_trans_image.png  Image size:  (1594, 2936, 3) (1594, 2936)\n",
      "Bantou_trans_image.png  Image size:  (3465, 6381, 3) (3465, 6381)\n",
      "Gbenikoro_trans_image.png  Image size:  (3706, 6825, 3) (3706, 6825)\n",
      "Chembu_trans_image.png  Image size:  (2500, 4604, 3) (2500, 4604)\n",
      "Tanganya_trans_image.png  Image size:  (3371, 4506, 3) (3371, 4506)\n",
      "Makump_trans_image.png  Image size:  (6475, 6175, 3) (6475, 6175)\n",
      "Kobadu_image.png  Image size:  (2506, 2027, 3) (2506, 2027)\n",
      "BHR_Guala_Cloud_1_image.png  Image size:  (4824, 6619, 3) (4824, 6619)\n",
      "OSM_West_Bantou_2_image.png  Image size:  (5458, 11071, 3) (5458, 11071)\n",
      "Talama_image.png  Image size:  (10710, 10950, 3) (10710, 10950)\n",
      "OSM_Gbetaya_1_image.png  Image size:  (1958, 3969, 3) (1958, 3969)\n",
      "Gbetaya_1_image.png  Image size:  (1865, 3055, 3) (1865, 3055)\n",
      "Tanganya_image.png  Image size:  (3371, 4506, 3) (3371, 4506)\n",
      "West_Bantou_1_image.png  Image size:  (2018, 2138, 3) (2018, 2138)\n",
      "Chembu_image.png  Image size:  (2500, 4604, 3) (2500, 4604)\n",
      "Guala_image.png  Image size:  (3211, 2190, 3) (3211, 2190)\n",
      "Barlie_image.png  Image size:  (1603, 2952, 3) (1603, 2952)\n",
      "BHR_Guala_Cloud_3_image.png  Image size:  (2589, 5171, 3) (2589, 5171)\n",
      "Ngegbeima_image.png  Image size:  (5000, 5500, 3) (5000, 5500)\n",
      "OSM_Gbetaya_2_image.png  Image size:  (2135, 4329, 3) (2135, 4329)\n",
      "Kapethe_image.png  Image size:  (2163, 3983, 3) (2163, 3983)\n",
      "OSM_Bantou_image.png  Image size:  (3638, 7381, 3) (3638, 7381)\n",
      "BHR_Guala_Cloud_2_image.png  Image size:  (4194, 5152, 3) (4194, 5152)\n",
      "OSM_Tanganya_image.png  Image size:  (3540, 7180, 3) (3540, 7180)\n",
      "BHR_Malambay_Cloud_1_image.png  Image size:  (2584, 5161, 3) (2584, 5161)\n",
      "Malambay_image.png  Image size:  (7809, 11285, 3) (7809, 11285)\n",
      "Gbetaya_3_image.png  Image size:  (4047, 6631, 3) (4047, 6631)\n",
      "Benduma_image.png  Image size:  (1250, 2302, 3) (1250, 2302)\n",
      "Jimmy_image.png  Image size:  (6742, 5180, 3) (6742, 5180)\n",
      "Taima_image.png  Image size:  (2930, 3453, 3) (2930, 3453)\n",
      "North_Tanganya_image.png  Image size:  (3540, 5992, 3) (3540, 5992)\n",
      "Gbetaya_2_image.png  Image size:  (2033, 3332, 3) (2033, 3332)\n",
      "BHR_Gbetaya_image.png  Image size:  (3540, 7176, 3) (3540, 7176)\n",
      "OSM_West_Bantou_1_image.png  Image size:  (2118, 4298, 3) (2118, 4298)\n",
      "Gbetaya_image.png  Image size:  (3371, 2500, 3) (3371, 2500)\n",
      "Kanipo_image.png  Image size:  (1250, 2302, 3) (1250, 2302)\n",
      "Bantou_image.png  Image size:  (3465, 6381, 3) (3465, 6381)\n",
      "OSM_West_Bantou_3_image.png  Image size:  (2103, 4269, 3) (2103, 4269)\n",
      "Makuna_image.png  Image size:  (1667, 3069, 3) (1667, 3069)\n"
     ]
    },
    {
     "name": "stderr",
     "output_type": "stream",
     "text": [
      "/mnt/ceph/boyuz/miniconda3/envs/gis/lib/python3.10/site-packages/PIL/Image.py:3035: DecompressionBombWarning: Image size (120650840 pixels) exceeds limit of 89478485 pixels, could be decompression bomb DOS attack.\n",
      "  warnings.warn(\n"
     ]
    },
    {
     "name": "stdout",
     "output_type": "stream",
     "text": [
      "BHR_Guala_Cloud_4_image.png  Image size:  (10616, 11365, 3) (10616, 11365)\n",
      "Gbenikoro_image.png  Image size:  (3706, 6825, 3) (3706, 6825)\n",
      "Ngaiagoehun_image.png  Image size:  (1594, 2936, 3) (1594, 2936)\n",
      "Njaguima_image.png  Image size:  (793, 1461, 3) (793, 1461)\n",
      "OSM_North_Tanganya_image.png  Image size:  (3717, 7539, 3) (3717, 7539)\n",
      "Largo_image.png  Image size:  (10000, 4325, 3) (10000, 4325)\n",
      "Makump_image.png  Image size:  (6475, 6175, 3) (6475, 6175)\n",
      "Mid_Tanganya_Bantou_image.png  Image size:  (3380, 3916, 3) (3380, 3916)\n",
      "Bafodia_image.png  Image size:  (6700, 6500, 3) (6700, 6500)\n"
     ]
    }
   ],
   "source": [
    "# split image and save\n",
    "raster_list_1 = glob(join(raster_dir_1, '*_image.png'))\n",
    "raster_list_2 = glob(join(raster_dir_2, '*_image.png'))\n",
    "raster_list = raster_list_2 + raster_list_1\n",
    "print(len(raster_list))\n",
    "\n",
    "for raster in raster_list:\n",
    "    _, img, mask, label = read_burned_raster(raster)\n",
    "    print(raster.split('/')[-1], ' Image size: ', img.shape, mask.shape)\n",
    "\n",
    "    # prepare for spliting\n",
    "    im_h, im_w = mask.shape\n",
    "    bl_h, bl_w = stride\n",
    "    tile_counter = 0\n",
    "\n",
    "    for row in np.arange(im_h - bl_h + 1, step=bl_h):\n",
    "        for col in np.arange(im_w - bl_w + 1, step=bl_w):\n",
    "            # get tile for image and mask\n",
    "            tile_img = img[row:row+bl_h, col:col+bl_w, :]\n",
    "            tile_msk = mask[row:row+bl_h, col:col+bl_w]\n",
    "            '''\n",
    "            This is tricky. Need to drop the zero. Besides, the instance index is 1 based, but the labels are 0 based. \n",
    "            '''\n",
    "            ids = [int(x-1) for x in np.unique(tile_msk)[1:]]\n",
    "            tile_lbl = label[ids]\n",
    "            # only keep tiles with instances\n",
    "\n",
    "            if len(tile_lbl) == 0:\n",
    "                continue\n",
    "            else:\n",
    "                flag, tile_msk, tile_lbl = instance_filter(tile_msk, tile_lbl)\n",
    "            \n",
    "            if flag:\n",
    "                save_tile(tile_img, tile_msk, tile_lbl, target_root, raster, tile_counter)\n",
    "                tile_counter += 1\n",
    "        "
   ]
  },
  {
   "cell_type": "markdown",
   "metadata": {},
   "source": [
    "Test: randomly a tile and the corresponding mask, print the class labels."
   ]
  },
  {
   "cell_type": "code",
   "execution_count": 10,
   "metadata": {},
   "outputs": [
    {
     "name": "stdout",
     "output_type": "stream",
     "text": [
      "[1 1 1 1 1 1 1 1]\n"
     ]
    },
    {
     "data": {
      "text/plain": [
       "<matplotlib.image.AxesImage at 0x7f286fef7e20>"
      ]
     },
     "execution_count": 10,
     "metadata": {},
     "output_type": "execute_result"
    },
    {
     "data": {
      "image/png": "[encoded data removed]",
      "text/plain": [
       "<Figure size 864x360 with 2 Axes>"
      ]
     },
     "metadata": {
      "needs_background": "light"
     },
     "output_type": "display_data"
    }
   ],
   "source": [
    "tile_list = glob(join('/mnt/ceph/boyuz/Builiding_Landscaping/building_dataset/tiles_1024', '*_image.png'))\n",
    "\n",
    "img_path = random.choice(tile_list)\n",
    "_, img, mask, label = read_burned_raster(img_path)\n",
    "\n",
    "print(label)\n",
    "\n",
    "fig, (ax1, ax2) = plt.subplots(1, 2, figsize=(12, 5))\n",
    "ax1.imshow(img)\n",
    "ax2.imshow(mask)"
   ]
  }
 ],
 "metadata": {
  "kernelspec": {
   "display_name": "Python 3.10.5 ('gis': conda)",
   "language": "python",
   "name": "python3"
  },
  "language_info": {
   "codemirror_mode": {
    "name": "ipython",
    "version": 3
   },
   "file_extension": ".py",
   "mimetype": "text/x-python",
   "name": "python",
   "nbconvert_exporter": "python",
   "pygments_lexer": "ipython3",
   "version": "3.10.5"
  },
  "vscode": {
   "interpreter": {
    "hash": "57daff7361fc30c528f364da978aaf086b5665328c451b71e432dac8cbe449fb"
   }
  }
 },
 "nbformat": 4,
 "nbformat_minor": 2
}
