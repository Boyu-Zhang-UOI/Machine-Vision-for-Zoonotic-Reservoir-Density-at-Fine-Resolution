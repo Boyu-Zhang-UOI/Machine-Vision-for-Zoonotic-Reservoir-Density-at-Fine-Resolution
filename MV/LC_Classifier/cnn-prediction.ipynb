{
 "cells": [
  {
   "cell_type": "markdown",
   "metadata": {},
   "source": [
    "This notebook calculate the land cover information."
   ]
  },
  {
   "cell_type": "code",
   "execution_count": 2,
   "metadata": {},
   "outputs": [
    {
     "name": "stdout",
     "output_type": "stream",
     "text": [
      "PyTorch Version:  1.14.0.dev20221103+cu117\n",
      "Torchvision Version:  0.15.0.dev20221103+cu117\n"
     ]
    }
   ],
   "source": [
    "import glob\n",
    "import os\n",
    "from os.path import join\n",
    "from natsort import natsorted\n",
    "import rasterio\n",
    "import imageio.v2 as imageio\n",
    "import numpy as np\n",
    "from tqdm import tqdm\n",
    "\n",
    "import time\n",
    "import copy\n",
    "\n",
    "import torch\n",
    "import torchvision\n",
    "import torch.nn as nn\n",
    "import torch.nn.functional as F\n",
    "import torch.optim as optim \n",
    "from torch.optim import lr_scheduler\n",
    "from torchvision import datasets, models, transforms\n",
    "from torch.utils.data import TensorDataset, DataLoader, random_split\n",
    "\n",
    "import matplotlib as mpl\n",
    "import matplotlib.pyplot as plt\n",
    "from matplotlib import colors\n",
    "\n",
    "\n",
    "colors_list = ['yellow', 'pink', 'teal', 'gray', 'red', 'white', 'aqua', 'orange', 'darkblue']\n",
    "cmap = mpl.colors.ListedColormap(colors_list)\n",
    "bounds = [-0.5, 0.5, 1.5, 2.5, 3.5, 4.5, 5.5, 6.5, 7.5, 256]\n",
    "norm = colors.BoundaryNorm(bounds, cmap.N)\n",
    "\n",
    "print(\"PyTorch Version: \",torch.__version__)\n",
    "print(\"Torchvision Version: \",torchvision.__version__)\n"
   ]
  },
  {
   "cell_type": "code",
   "execution_count": 3,
   "metadata": {},
   "outputs": [],
   "source": [
    "def split(a, n):\n",
    "    k, m = divmod(len(a), n)\n",
    "    return (a[i*k+min(i, m):(i+1)*k+min(i+1, m)] for i in range(n))"
   ]
  },
  {
   "cell_type": "code",
   "execution_count": 4,
   "metadata": {},
   "outputs": [],
   "source": [
    "model_path = '/mnt/ceph/boyuz/Builiding_Landscaping/land_conver_segmentation/partial_label/code/cnn_model_5_epoch_30.pt'\n",
    "\n",
    "raster_list = [\n",
    "    '/mnt/ceph/boyuz/BU_Classifier/Bafodia_Google.tif'\n",
    "    ]\n",
    "\n",
    "tile_size = 64\n",
    "step = 5 \n",
    "site_id = 0\n",
    "device = torch.device(\"cuda:0\" if torch.cuda.is_available() else \"cpu\")\n"
   ]
  },
  {
   "cell_type": "code",
   "execution_count": 5,
   "metadata": {},
   "outputs": [],
   "source": [
    "model = torch.load(model_path)\n",
    "model.eval()\n",
    "model.to(device);\n"
   ]
  },
  {
   "cell_type": "code",
   "execution_count": 7,
   "metadata": {},
   "outputs": [
    {
     "name": "stdout",
     "output_type": "stream",
     "text": [
      "Processing site: Bafodia_Google\n"
     ]
    }
   ],
   "source": [
    "test_img = imageio.imread(raster_list[0])[:,:,:3]\n",
    "# site = raster_list[site_id].split(os.sep)[-1][:-4]\n",
    "site = 'Bafodia_Google'\n",
    "print(f'Processing site: {site}')"
   ]
  },
  {
   "cell_type": "code",
   "execution_count": 8,
   "metadata": {},
   "outputs": [
    {
     "name": "stdout",
     "output_type": "stream",
     "text": [
      "3916 5012\n"
     ]
    }
   ],
   "source": [
    "x_range = range(0, test_img.shape[0]-tile_size, step)\n",
    "y_range = range(0, test_img.shape[1]-tile_size, step)\n",
    "print(len(x_range), len(y_range))"
   ]
  },
  {
   "cell_type": "code",
   "execution_count": 9,
   "metadata": {},
   "outputs": [
    {
     "name": "stderr",
     "output_type": "stream",
     "text": [
      "100%|██████████| 3916/3916 [32:25<00:00,  2.01it/s]\n"
     ]
    }
   ],
   "source": [
    "results_mat = []\n",
    "\n",
    "for x in tqdm(x_range):\n",
    "    # get tiles for each row\n",
    "    tiles_row = []\n",
    "    for y in y_range:\n",
    "        tiles_row.append(test_img[x:x+tile_size, y:y+tile_size, :])\n",
    "    # too big, split to 3 parts to fit the GPU ram\n",
    "    tile_list_row = split(tiles_row, 3)\n",
    "\n",
    "    result_row = []\n",
    "    for tile_list in tile_list_row:\n",
    "        tile_list = np.moveaxis(np.array(tile_list), -1, 1)\n",
    "        input = torch.tensor(tile_list, dtype=torch.float)\n",
    "        output = model(input.to(device))\n",
    "        _, preds = torch.max(output, 1)\n",
    "        result_row = result_row + list(preds.detach().cpu().numpy())\n",
    "    \n",
    "    results_mat.append(result_row)\n"
   ]
  },
  {
   "cell_type": "code",
   "execution_count": 11,
   "metadata": {},
   "outputs": [
    {
     "data": {
      "text/plain": [
       "(3916, 5012)"
      ]
     },
     "execution_count": 11,
     "metadata": {},
     "output_type": "execute_result"
    }
   ],
   "source": [
    "result_array.shape"
   ]
  },
  {
   "cell_type": "code",
   "execution_count": 10,
   "metadata": {},
   "outputs": [],
   "source": [
    "result_array = np.array([np.array(x) for x in results_mat])\n",
    "np.save(str(tile_size) + '_' + str(step) + '_' + site, result_array)"
   ]
  },
  {
   "cell_type": "code",
   "execution_count": 14,
   "metadata": {},
   "outputs": [
    {
     "data": {
      "text/plain": [
       "<matplotlib.image.AxesImage at 0x7f26c00dcbb0>"
      ]
     },
     "execution_count": 14,
     "metadata": {},
     "output_type": "execute_result"
    },
    {
     "data": {
      "image/png": "[encoded data removed]",
      "text/plain": [
       "<Figure size 432x288 with 1 Axes>"
      ]
     },
     "metadata": {
      "needs_background": "light"
     },
     "output_type": "display_data"
    }
   ],
   "source": [
    "plt.imshow(result_array, cmap = cmap, norm = norm, interpolation = 'none')"
   ]
  },
  {
   "cell_type": "code",
   "execution_count": 3,
   "metadata": {},
   "outputs": [
    {
     "data": {
      "text/plain": [
       "<matplotlib.image.AxesImage at 0x7f6cb7f375b0>"
      ]
     },
     "execution_count": 3,
     "metadata": {},
     "output_type": "execute_result"
    },
    {
     "data": {
      "image/png": "[encoded data removed]",
      "text/plain": [
       "<Figure size 432x288 with 1 Axes>"
      ]
     },
     "metadata": {
      "needs_background": "light"
     },
     "output_type": "display_data"
    }
   ],
   "source": [
    "part_result = np.load('64_5_Bantou.npy')\n",
    "plt.imshow(part_result, cmap = cmap, norm = norm, interpolation = 'none')"
   ]
  }
 ],
 "metadata": {
  "kernelspec": {
   "display_name": "Python 3.10.5 ('gis': conda)",
   "language": "python",
   "name": "python3"
  },
  "language_info": {
   "codemirror_mode": {
    "name": "ipython",
    "version": 3
   },
   "file_extension": ".py",
   "mimetype": "text/x-python",
   "name": "python",
   "nbconvert_exporter": "python",
   "pygments_lexer": "ipython3",
   "version": "3.10.6"
  },
  "orig_nbformat": 4,
  "vscode": {
   "interpreter": {
    "hash": "57daff7361fc30c528f364da978aaf086b5665328c451b71e432dac8cbe449fb"
   }
  }
 },
 "nbformat": 4,
 "nbformat_minor": 2
}
